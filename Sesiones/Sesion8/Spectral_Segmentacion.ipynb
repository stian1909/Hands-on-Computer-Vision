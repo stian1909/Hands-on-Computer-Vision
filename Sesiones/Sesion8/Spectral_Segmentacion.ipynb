{
 "cells": [
  {
   "cell_type": "markdown",
   "metadata": {},
   "source": [
    "<image src=\"https://i.imgur.com/r2668pf.png\" width=100%>"
   ]
  },
  {
   "cell_type": "markdown",
   "metadata": {},
   "source": [
    "## <font color='#4C5FDA'>**Instalamos paquetes y librerias**</font>\n"
   ]
  },
  {
   "cell_type": "code",
   "execution_count": 46,
   "metadata": {},
   "outputs": [
    {
     "name": "stdout",
     "output_type": "stream",
     "text": [
      "Note: you may need to restart the kernel to use updated packages.\n",
      "Note: you may need to restart the kernel to use updated packages.\n",
      "Note: you may need to restart the kernel to use updated packages.\n",
      "Note: you may need to restart the kernel to use updated packages.\n"
     ]
    }
   ],
   "source": [
    "%pip install -q mat73\n",
    "%pip install -q openexr\n",
    "%pip install -q spectral\n",
    "%pip install -q scikit-image\n",
    "%pip install -q gdown"
   ]
  },
  {
   "cell_type": "code",
   "execution_count": 47,
   "metadata": {},
   "outputs": [],
   "source": [
    "import mat73\n",
    "import numpy as np\n",
    "import matplotlib.pyplot as plt\n",
    "from tqdm import tqdm\n",
    "\n",
    "# Scientific computing\n",
    "import numpy as np\n",
    "from scipy import io\n",
    "from scipy import interpolate\n",
    "from scipy.signal import gaussian\n",
    "\n",
    "# Plotting\n",
    "import matplotlib.pyplot as plt\n",
    "plt.ion()\n",
    "\n",
    "from sklearn.decomposition import PCA"
   ]
  },
  {
   "cell_type": "markdown",
   "metadata": {},
   "source": [
    "## <font color='#4C5FDA'>**Descargamos la imagen hiperspectral y la libreria de firmas espectrales**</font>\n"
   ]
  },
  {
   "cell_type": "code",
   "execution_count": null,
   "metadata": {},
   "outputs": [],
   "source": [
    "!gdown 1L78cLVSSFLgvgGHWjGlaCPG4MzqPhYBz\n",
    "!gdown 1F8qD2vwjIkFHcHwkXsVzBAPAXyH9DhyZ"
   ]
  },
  {
   "cell_type": "markdown",
   "metadata": {},
   "source": [
    "## <font color='#4C5FDA'>**Cargamos el cubo espectral**</font>\n"
   ]
  },
  {
   "cell_type": "code",
   "execution_count": 48,
   "metadata": {},
   "outputs": [],
   "source": [
    "file = mat73.loadmat('./8.mat')\n",
    "cube = file[\"rad\"]\n",
    "\n",
    "cube = cube / np.max(cube)\n",
    "cube = cube.transpose(1,0 ,2)[::-1, :, :]"
   ]
  },
  {
   "cell_type": "code",
   "execution_count": null,
   "metadata": {},
   "outputs": [],
   "source": [
    "plt.imshow(cube[:,:,0])"
   ]
  },
  {
   "cell_type": "markdown",
   "metadata": {},
   "source": [
    "## <font color='#4C5FDA'>**Metodos utiles para transformar una imagen hiperspectral a rgb**</font>\n"
   ]
  },
  {
   "cell_type": "code",
   "execution_count": 50,
   "metadata": {},
   "outputs": [],
   "source": [
    "import numpy as np\n",
    "\n",
    "\n",
    "def g(x, alpha, mu, sigma1, sigma2):\n",
    "    sigma = (x < mu)*sigma1 + (x >= mu)*sigma2\n",
    "    return alpha*np.exp((x-mu)**2 / (-2*(sigma**2)))\n",
    "\n",
    "\n",
    "def component_x(x): return g(x, 1.056, 5998, 379, 310) + \\\n",
    "    g(x, 0.362, 4420, 160, 267) + g(x, -0.065, 5011, 204, 262)\n",
    "\n",
    "\n",
    "def component_y(x): return g(x, 0.821, 5688, 469, 405) + \\\n",
    "    g(x, 0.286, 5309, 163, 311)\n",
    "\n",
    "\n",
    "def component_z(x): return g(x, 1.217, 4370, 118, 360) + \\\n",
    "    g(x, 0.681, 4590, 260, 138)\n",
    "\n",
    "\n",
    "def xyz_from_xy(x, y):\n",
    "    \"\"\"Return the vector (x, y, 1-x-y).\"\"\"\n",
    "    return np.array((x, y, 1-x-y))\n",
    "\n",
    "\n",
    "ILUMINANT = {\n",
    "    'D65': xyz_from_xy(0.3127, 0.3291),\n",
    "    'E':  xyz_from_xy(1/3, 1/3),\n",
    "}\n",
    "\n",
    "COLOR_SPACE = {\n",
    "    'sRGB': (xyz_from_xy(0.64, 0.33),\n",
    "             xyz_from_xy(0.30, 0.60),\n",
    "             xyz_from_xy(0.15, 0.06),\n",
    "             ILUMINANT['D65']),\n",
    "\n",
    "    'AdobeRGB': (xyz_from_xy(0.64, 0.33),\n",
    "                 xyz_from_xy(0.21, 0.71),\n",
    "                 xyz_from_xy(0.15, 0.06),\n",
    "                 ILUMINANT['D65']),\n",
    "\n",
    "    'AppleRGB': (xyz_from_xy(0.625, 0.34),\n",
    "                 xyz_from_xy(0.28, 0.595),\n",
    "                 xyz_from_xy(0.155, 0.07),\n",
    "                 ILUMINANT['D65']),\n",
    "\n",
    "    'UHDTV': (xyz_from_xy(0.708, 0.292),\n",
    "              xyz_from_xy(0.170, 0.797),\n",
    "              xyz_from_xy(0.131, 0.046),\n",
    "              ILUMINANT['D65']),\n",
    "\n",
    "    'CIERGB': (xyz_from_xy(0.7347, 0.2653),\n",
    "               xyz_from_xy(0.2738, 0.7174),\n",
    "               xyz_from_xy(0.1666, 0.0089),\n",
    "               ILUMINANT['E']),\n",
    "}\n",
    "\n",
    "\n",
    "class ColourSystem:\n",
    "\n",
    "    def __init__(self, start=None, end=None, num=None, cs='sRGB'):\n",
    "\n",
    "        # Chromaticities\n",
    "        bands = np.linspace(start=start, stop=end, num=num)*10\n",
    "\n",
    "        self.cmf = np.array([component_x(bands),\n",
    "                             component_y(bands),\n",
    "                             component_z(bands)])\n",
    "\n",
    "        self.red, self.green, self.blue, self.white = COLOR_SPACE[cs]\n",
    "\n",
    "        # The chromaticity matrix (rgb -> xyz) and its inverse\n",
    "        self.M = np.vstack((self.red, self.green, self.blue)).T\n",
    "        self.MI = np.linalg.inv(self.M)\n",
    "\n",
    "        # White scaling array\n",
    "        self.wscale = self.MI.dot(self.white)\n",
    "\n",
    "        # xyz -> rgb transformation matrix\n",
    "        self.A = self.MI / self.wscale[:, np.newaxis]\n",
    "\n",
    "  \n",
    "    def get_transform_matrix(self):\n",
    "\n",
    "        XYZ = self.cmf\n",
    "        RGB = XYZ.T @ self.A.T\n",
    "        RGB = RGB / np.sum(RGB, axis=0, keepdims=True)\n",
    "        return RGB\n",
    "\n",
    "    def spec_to_rgb(self, spec):\n",
    "        \"\"\"Convert a spectrum to an rgb value.\"\"\"\n",
    "        M = self.get_transform_matrix()\n",
    "        rgb = spec @ M\n",
    "        return rgb"
   ]
  },
  {
   "cell_type": "markdown",
   "metadata": {},
   "source": [
    "# <font color='#4C5FDA'>**pasamos de 31 bandas a 3 bandas**</font>\n"
   ]
  },
  {
   "cell_type": "code",
   "execution_count": null,
   "metadata": {},
   "outputs": [],
   "source": [
    "color_space = \"sRGB\"\n",
    "start, end = None, None\n",
    "number_bands = None\n",
    "\n",
    "cs = ColourSystem(cs=color_space, start=start, end=end, num=number_bands)\n",
    "\n",
    "img_rgb = cs.spec_to_rgb(cube)\n",
    "\n",
    "img_rgb = np.clip(img_rgb, 0, 1)\n",
    "\n",
    "#post processing, because the image is too dark\n",
    "img_rgb = img_rgb ** 0.5\n",
    "\n",
    "plt.imshow(img_rgb)\n",
    "plt.colorbar()\n",
    "plt.show()"
   ]
  },
  {
   "cell_type": "code",
   "execution_count": null,
   "metadata": {},
   "outputs": [],
   "source": [
    "fig, axs = plt.subplots(1, 2, figsize=(10, 5))\n",
    "\n",
    "axs[0].imshow(img_rgb)\n",
    "axs[0].set_title('RGB image')\n",
    "\n",
    "axs[1].imshow(cube[:,:,10])\n",
    "axs[1].set_title('Spectral image: band number 10')\n",
    "\n",
    "plt.show()\n",
    "\n"
   ]
  },
  {
   "cell_type": "markdown",
   "metadata": {},
   "source": [
    "# <font color='#4C5FDA'>**Cargamos la libreria de firmas espectrales**</font>\n"
   ]
  },
  {
   "cell_type": "code",
   "execution_count": 53,
   "metadata": {},
   "outputs": [
    {
     "name": "stdout",
     "output_type": "stream",
     "text": [
      "Index(['ID', 'Name', 'ObjectType', 'RadianceType', 'MeasurementLocation',\n",
      "       'Lat', 'Long', 'MeasurementCredit', 'URL', 'Comments', 'Specularity',\n",
      "       'Roughness', 'MeasurementType', 'R', 'G', 'B', 'L', 'a', 'b', 'hex',\n",
      "       'SCIMeasures', 'SCEMeasures', 'VisibleReflectance',\n",
      "       'MelanopicReflectance', 'Radiance Material'],\n",
      "      dtype='object')\n",
      "(1288, 25)\n"
     ]
    }
   ],
   "source": [
    "import pandas\n",
    "import numpy as np\n",
    "\n",
    "spectraldb = pandas.read_csv('spectraldb.csv')\n",
    "print(spectraldb.columns)\n",
    "print(spectraldb.shape)"
   ]
  },
  {
   "cell_type": "markdown",
   "metadata": {},
   "source": [
    "# <font color='#4C5FDA'>**Pre-procesamos las firmas**</font>\n"
   ]
  },
  {
   "cell_type": "code",
   "execution_count": 54,
   "metadata": {},
   "outputs": [
    {
     "name": "stdout",
     "output_type": "stream",
     "text": [
      "(1080, 25)\n"
     ]
    }
   ],
   "source": [
    "spectraldb = spectraldb[spectraldb['ObjectType'] != 'Color Swatch']\n",
    "print(spectraldb.shape)"
   ]
  },
  {
   "cell_type": "code",
   "execution_count": null,
   "metadata": {},
   "outputs": [],
   "source": [
    "materials = [\"plant\", \"stone\", \"Aluminium\", \"Concrete\", \"Wooden\", \"Wood\", \"Metal\", \"Fabric\", \"Metallic\", \"grass\"]\n",
    "\n",
    "materials_dict = {word.lower(): index for index, word in enumerate(materials)}\n",
    "\n",
    "categories = [\"Wall\", \"Plant\"]\n",
    "\n",
    "materials_dict[\"wall\"] = len(materials_dict)\n",
    "materials_dict[\"plant\"] = len(materials_dict)\n",
    "\n",
    "# search for material with name that contains some string from materials list\n",
    "\n",
    "filter1 = spectraldb[\"ObjectType\"].str.contains('|'.join(categories), case=False)\n",
    "wall_plant = spectraldb[filter1]\n",
    "\n",
    "filter = spectraldb[\"Name\"].str.contains('|'.join(materials), case=False)\n",
    "spectraldb = spectraldb[filter]\n",
    "\n",
    "#join two dataframes, maybe are the same row in both dataframes so we need to drop duplicates\n",
    "\n",
    "spectraldb = pandas.concat([spectraldb, wall_plant]).drop_duplicates().reset_index(drop=True)\n",
    "\n",
    "spectraldb"
   ]
  },
  {
   "cell_type": "code",
   "execution_count": 56,
   "metadata": {},
   "outputs": [
    {
     "data": {
      "text/plain": [
       "(31,)"
      ]
     },
     "execution_count": 56,
     "metadata": {},
     "output_type": "execute_result"
    }
   ],
   "source": [
    "wv_int = np.array(list(range(None, None, None))) # desde la longitud de onda 420 a la 730 cada 10 nm\n",
    "wv_int.shape"
   ]
  },
  {
   "cell_type": "markdown",
   "metadata": {},
   "source": [
    "## <font color='#4C5FDA'>**Plot de todas las firmas espectrales de materiales**</font>\n"
   ]
  },
  {
   "cell_type": "code",
   "execution_count": null,
   "metadata": {},
   "outputs": [],
   "source": [
    "data = []\n",
    "\n",
    "\n",
    "remove_signatures = []\n",
    "\n",
    "for row in spectraldb.itertuples():\n",
    "    SCEdict = eval(row.SCEMeasures)\n",
    "    try:\n",
    "        reflectances = np.array([SCEdict[wavelength] for wavelength in wv_int]) / 100\n",
    "    except KeyError:\n",
    "        remove_signatures.append(row.Index)\n",
    "        continue\n",
    "    #if row.ObjectType not in objects.keys():\n",
    "    #    objects[row.ObjectType] = len(objects)\n",
    "        \n",
    "    data.append(reflectances)\n",
    "    \n",
    "    plt.plot(wv_int, reflectances)\n",
    "\n",
    "spectraldb.drop(remove_signatures, inplace=True)\n",
    "\n",
    "print(np.array(data).shape)"
   ]
  },
  {
   "cell_type": "markdown",
   "metadata": {},
   "source": [
    "# <font color='#4C5FDA'>**Plot de firmas separado por material**</font>\n"
   ]
  },
  {
   "cell_type": "code",
   "execution_count": null,
   "metadata": {},
   "outputs": [],
   "source": [
    "\n",
    "fig, ax = plt.subplots(3, 4, figsize=(10, 5))\n",
    "\n",
    "for i,material in enumerate(materials_dict.keys()):\n",
    "    filter = spectraldb[\"Name\"].str.contains(material, case=False)\n",
    "    material_df = spectraldb[filter]\n",
    "\n",
    "    filter1 = spectraldb[\"ObjectType\"].str.contains(material, case=False)\n",
    "    material_df_ = spectraldb[filter1]\n",
    "\n",
    "    signatures_mat = pandas.concat([material_df, material_df_]).drop_duplicates().reset_index()\n",
    "\n",
    "    print(material, signatures_mat.shape[0])\n",
    "\n",
    "    for row in signatures_mat.itertuples():\n",
    "        SCEdict = eval(row.SCEMeasures)\n",
    "        reflectances = np.array([SCEdict[wavelength] for wavelength in wv_int]) / 100\n",
    "        ax[i//4, i%4].plot(wv_int, reflectances)\n",
    "        ax[i//4, i%4].set_title(material)\n",
    "        ax[i//4, i%4].set_ylim([0, 1])\n",
    "        ax[i//4, i%4].set_xlim([400, 700])\n",
    "\n",
    "plt.tight_layout()\n",
    "plt.show()\n"
   ]
  },
  {
   "cell_type": "code",
   "execution_count": 59,
   "metadata": {},
   "outputs": [
    {
     "data": {
      "text/plain": [
       "(370, 31)"
      ]
     },
     "execution_count": 59,
     "metadata": {},
     "output_type": "execute_result"
    }
   ],
   "source": [
    "materials_matrix = np.array(data)\n",
    "materials_matrix.shape"
   ]
  },
  {
   "cell_type": "markdown",
   "metadata": {},
   "source": [
    "## <font color='#4C5FDA'>**Calculamos los angulos espectrales para cada material con respecto a cada pixel en el cubo**</font>\n"
   ]
  },
  {
   "cell_type": "code",
   "execution_count": 60,
   "metadata": {},
   "outputs": [],
   "source": [
    "import spectral\n",
    "\n",
    "result_sam = spectral.algorithms.spectral_angles(None,None) "
   ]
  },
  {
   "cell_type": "code",
   "execution_count": 61,
   "metadata": {},
   "outputs": [
    {
     "data": {
      "text/plain": [
       "(1392, 1300, 370)"
      ]
     },
     "execution_count": 61,
     "metadata": {},
     "output_type": "execute_result"
    }
   ],
   "source": [
    "result_sam.shape"
   ]
  },
  {
   "cell_type": "code",
   "execution_count": 62,
   "metadata": {},
   "outputs": [],
   "source": [
    "def plot_2_signatures(signature1, signature2):\n",
    "    plt.plot(wv_int, signature1, label='signature1')\n",
    "    plt.plot(wv_int, signature2, label='signature2')\n",
    "    \n",
    "def plot_nearest_signature(nearest_matrix, x, y):\n",
    "    material = nearest_matrix[x,y]\n",
    "    row = spectraldb.iloc[material, :]\n",
    "    signature = np.array([eval(row.SCEMeasures)[wavelength] for wavelength in wv_int]) / 100\n",
    "    plot_2_signatures(cube[x,y,:], signature)\n",
    "    plt.legend()\n",
    "    plt.show()"
   ]
  },
  {
   "cell_type": "code",
   "execution_count": 63,
   "metadata": {},
   "outputs": [
    {
     "data": {
      "text/plain": [
       "(1392, 1300)"
      ]
     },
     "execution_count": 63,
     "metadata": {},
     "output_type": "execute_result"
    }
   ],
   "source": [
    "import numpy as np\n",
    "\n",
    "a = np.argmin(result_sam, axis=2)\n",
    "a.shape"
   ]
  },
  {
   "cell_type": "code",
   "execution_count": null,
   "metadata": {},
   "outputs": [],
   "source": [
    "plot_nearest_signature(None,None,None)"
   ]
  },
  {
   "cell_type": "code",
   "execution_count": 65,
   "metadata": {},
   "outputs": [],
   "source": [
    "segmentation_materials = np.zeros((cube.shape[0], cube.shape[1]), dtype=np.uint32)\n",
    "\n",
    "for i in range(cube.shape[0]):\n",
    "    for j in range(cube.shape[1]):\n",
    "        material = a[i,j]\n",
    "        row = spectraldb.iloc[material, :]\n",
    "\n",
    "        material = str(row.Name)\n",
    "        real_material =[category.lower() for category in materials if category.lower() in material.lower()]\n",
    "        if len(real_material) == 0:\n",
    "            real_material =[category.lower() for category in categories if category.lower() in row.ObjectType.lower()]\n",
    "\n",
    "        segmentation_materials[i,j] = materials_dict[real_material[0]]\n",
    "        #segmentation_materials[i,j] = objects[str(row.ObjectType)] #material\n"
   ]
  },
  {
   "cell_type": "code",
   "execution_count": null,
   "metadata": {},
   "outputs": [],
   "source": [
    "materials_dict"
   ]
  },
  {
   "cell_type": "code",
   "execution_count": null,
   "metadata": {},
   "outputs": [],
   "source": [
    "import matplotlib.patches as mpatches\n",
    "import matplotlib\n",
    "\n",
    "fig, ax = plt.subplots(1, 2, figsize=(10, 5))\n",
    "\n",
    "colors = ['olive','red', 'green', 'yellow', 'pink', 'orange', 'purple', 'brown', 'gray', 'cyan']\n",
    "vmin = None\n",
    "vmax = None\n",
    "cmap = matplotlib.colors.ListedColormap(colors)\n",
    "\n",
    "\n",
    "im = ax[1].imshow(segmentation_materials, cmap=\"tab20b\")\n",
    "\n",
    "values = list(range(11))\n",
    "names = list(materials_dict.keys())\n",
    "\n",
    "colors = [ im.cmap(im.norm(value)) for value in values]\n",
    "\n",
    "\n",
    "\n",
    "aa = [ mpatches.Patch(color=colors[i], label=f\"{list(materials_dict.keys())[list(materials_dict.values()).index(i+1)]}\") for i in range(0,11) ]\n",
    "\n",
    "\n",
    "plt.legend(handles=aa, bbox_to_anchor=(1.05, 1), loc=2, borderaxespad=0.2)\n",
    "\n",
    "ax[0].imshow(img_rgb)\n",
    "\n",
    "plt.show()"
   ]
  },
  {
   "cell_type": "code",
   "execution_count": null,
   "metadata": {},
   "outputs": [],
   "source": [
    "materials_dict"
   ]
  },
  {
   "cell_type": "code",
   "execution_count": null,
   "metadata": {},
   "outputs": [],
   "source": [
    "from skimage import data, segmentation, color\n",
    "\n",
    "labels_slic = segmentation.slic(img_rgb, compactness=None, n_segments=None)\n",
    "superpixels_slic = color.label2rgb(labels_slic, img_rgb, kind='avg')\n",
    "\n",
    "# show original image, slic, ground truth\n",
    "fig, ax = plt.subplots(1,3, figsize=(15,10))\n",
    "ax[0].imshow(img_rgb)\n",
    "ax[0].set_title(\"Original\")\n",
    "ax[0].axis('off')\n",
    "ax[1].imshow(superpixels_slic)\n",
    "ax[1].set_title(\"SLIC\")\n",
    "ax[1].axis('off')\n",
    "ax[2].imshow(segmentation.mark_boundaries(img_rgb, labels_slic))"
   ]
  },
  {
   "cell_type": "code",
   "execution_count": null,
   "metadata": {},
   "outputs": [],
   "source": [
    "def sp_idx(s, index = True):\n",
    "     u = np.unique(s)\n",
    "     return [np.where(s == i) for i in u], u.shape[0]\n",
    "\n",
    "superpixel_list, n = sp_idx(labels_slic)\n",
    "\n",
    "for i in range(n):\n",
    "     superpixel = superpixel_list[i]\n",
    "     objects_ = []\n",
    "     for j in range(len(superpixel[0])):\n",
    "          x = None\n",
    "          y = None\n",
    "          objects_.append(segmentation_materials[x,y])\n",
    "     max_object = max(set(objects_), key=objects_.count)\n",
    "     for j in range(len(superpixel[0])):\n",
    "          x = None\n",
    "          y = None\n",
    "          segmentation_materials[x,y] = max_object\n",
    "\n",
    "fig, ax = plt.subplots(1, 2, figsize=(10, 5))\n",
    "im = ax[1].imshow(segmentation_materials, cmap='tab20b')\n",
    "\n",
    "values = list(range(13))\n",
    "names = list(materials_dict.keys())\n",
    "colors = [ im.cmap(im.norm(value)) for value in values]\n",
    "aa = [ mpatches.Patch(color=colors[i], label=f\"{list(materials_dict.keys())[list(materials_dict.values()).index(i+1)]}\") for i in range(0,11) ]\n",
    "plt.legend(handles=aa, bbox_to_anchor=(1.05, 1), loc=2, borderaxespad=0.2)\n",
    "\n",
    "ax[0].imshow(img_rgb)\n",
    "\n",
    "plt.show()"
   ]
  },
  {
   "cell_type": "code",
   "execution_count": 71,
   "metadata": {},
   "outputs": [
    {
     "ename": "AttributeError",
     "evalue": "module 'skimage.segmentation' has no attribute 'shape'",
     "output_type": "error",
     "traceback": [
      "\u001b[0;31m---------------------------------------------------------------------------\u001b[0m",
      "\u001b[0;31mAttributeError\u001b[0m                            Traceback (most recent call last)",
      "Cell \u001b[0;32mIn[71], line 1\u001b[0m\n\u001b[0;32m----> 1\u001b[0m \u001b[43msegmentation\u001b[49m\u001b[38;5;241;43m.\u001b[39;49m\u001b[43mshape\u001b[49m\n",
      "\u001b[0;31mAttributeError\u001b[0m: module 'skimage.segmentation' has no attribute 'shape'"
     ]
    }
   ],
   "source": [
    "segmentation.shape"
   ]
  }
 ],
 "metadata": {
  "kernelspec": {
   "display_name": "Python 3",
   "language": "python",
   "name": "python3"
  },
  "language_info": {
   "codemirror_mode": {
    "name": "ipython",
    "version": 3
   },
   "file_extension": ".py",
   "mimetype": "text/x-python",
   "name": "python",
   "nbconvert_exporter": "python",
   "pygments_lexer": "ipython3",
   "version": "3.10.12"
  },
  "orig_nbformat": 4
 },
 "nbformat": 4,
 "nbformat_minor": 2
}
